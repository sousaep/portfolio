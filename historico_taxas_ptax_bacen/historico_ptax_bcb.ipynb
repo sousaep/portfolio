{
 "cells": [
  {
   "cell_type": "markdown",
   "id": "3bc89159",
   "metadata": {},
   "source": [
    "# Histórico de cotações de fechamento Ptax de compra e venda do BCB (Banco Central do Brasil)\n",
    "Este notebook tem como objetivo automatizar o processo de obtenção das cotações de fechamento Ptax de compra e venda de diversas moedas disponibilizadas pelo BCB, incluindo também a paridade com relação ao Dólar dos EUA.\n",
    "Conforme explicitado na página de origem, os dados são provenientes de Refinitiv."
   ]
  },
  {
   "cell_type": "markdown",
   "id": "06c66c16",
   "metadata": {},
   "source": [
    "###### Aviso importante: os dados obtidos servem apenas para fins de consulta e estudo, podendo não necessariamente refletir a realidade ou apresentarem inconsistências. "
   ]
  },
  {
   "cell_type": "markdown",
   "id": "245b0e09",
   "metadata": {},
   "source": [
    "### Importação de bibliotecas\n",
    "As bibliotecas utilizadas são basicamente Numpy, Pandas e Date Time. \n",
    "O SQLite é utilizado para testes, mas não influencia na saída de dados diretamente."
   ]
  },
  {
   "cell_type": "code",
   "execution_count": 13,
   "id": "ae20557c",
   "metadata": {},
   "outputs": [],
   "source": [
    "import sqlite3\n",
    "import numpy as np\n",
    "import pandas as pd\n",
    "import datetime"
   ]
  },
  {
   "cell_type": "markdown",
   "id": "8b2b9b19",
   "metadata": {},
   "source": [
    "### Obtenção de dados\n",
    "Os dados são obtidos através do arquivo .csv disponibilizado para download na página https://www.bcb.gov.br/estabilidadefinanceira/historicocotacoes. Crio a string com o URL de download, contendo o código da moeda e as datas iniciais e finais - que precisam estar em um período máximo de 6 meses. "
   ]
  },
  {
   "cell_type": "code",
   "execution_count": 14,
   "id": "0e8b2dd7",
   "metadata": {},
   "outputs": [],
   "source": [
    "def cotacao_periodo(moeda,inicial,final):\n",
    "    url = \"https://ptax.bcb.gov.br/ptax_internet/consultaBoletim.do?method=gerarCSVFechamentoMoedaNoPeriodo&ChkMoeda=\"+str(moeda)+\"&DATAINI=\"+inicial+\"&DATAFIM=\"+final\n",
    "    \n",
    "    colunas = [\"data_cotacao\",\n",
    "               \"codigo_moeda\",\n",
    "               \"tipo_moeda\",\n",
    "               \"simbolo\",\n",
    "               \"taxa_compra\",\n",
    "               \"taxa_venda\",\n",
    "               \"paridade_compra\",\n",
    "               \"paridade_venda\"]\n",
    "    \n",
    "    tipos = {\"data_cotacao\":str,\n",
    "             \"codigo_moeda\":str,\n",
    "             \"tipo_moeda\":str,\n",
    "             \"simbolo\":str,\n",
    "             \"taxa_compra\":float,\n",
    "             \"taxa_venda\":float,\n",
    "             \"paridade_compra\":float,\n",
    "             \"paridade_venda\":float}\n",
    "    \n",
    "    csv = pd.read_csv(url, header = 0, encoding=\"ISO-8859-1\",\n",
    "                      sep = \";\", decimal = \",\", names = colunas, dtype = tipos)\n",
    "    \n",
    "    csv.loc[:,\"data_cotacao\"] = pd.to_datetime(csv[\"data_cotacao\"].str.zfill(8), format=\"%d%m%Y\")\n",
    "    \n",
    "    return csv"
   ]
  },
  {
   "cell_type": "markdown",
   "id": "1cf6fede",
   "metadata": {},
   "source": [
    "Antes de carregar a tabela, obtemos a data máxima disponível na tabela de registro de cargas. Assim, essa data será utilizada como base para o parâmetro de data inicial da URL que obtem os dados de cotações. A data final, por sua vez, será o dia atual."
   ]
  },
  {
   "cell_type": "code",
   "execution_count": 15,
   "id": "8df85d32",
   "metadata": {},
   "outputs": [],
   "source": [
    "conexao = sqlite3.connect(\"cotacao_dw.db\")\n",
    "cursor = conexao.cursor()"
   ]
  },
  {
   "cell_type": "code",
   "execution_count": 16,
   "id": "caad86e5",
   "metadata": {},
   "outputs": [],
   "source": [
    "data_inicial = pd.read_sql(\"\"\"\n",
    "    SELECT STRFTIME('%d/%m/%Y',MAX(data_cotacao)) data_inicial \n",
    "    FROM fat_taxa\"\"\", conexao)[\"data_inicial\"][0]"
   ]
  },
  {
   "cell_type": "code",
   "execution_count": 17,
   "id": "69bfb7b4",
   "metadata": {
    "scrolled": true
   },
   "outputs": [],
   "source": [
    "data_final = datetime.date.today().strftime(\"%d/%m/%Y\")"
   ]
  },
  {
   "cell_type": "code",
   "execution_count": 18,
   "id": "38e8a4e9",
   "metadata": {},
   "outputs": [],
   "source": [
    "if data_inicial == None:\n",
    "    data_inicial = datetime.date.today() + datetime.timedelta(days=-120)\n",
    "    data_inicial = data_inicial.strftime(\"%d/%m/%Y\")\n",
    "else:\n",
    "    pass"
   ]
  },
  {
   "cell_type": "markdown",
   "id": "4e3e0b24",
   "metadata": {},
   "source": [
    "Códigos das moedas: \n",
    "- Dólar EUA = 61\n",
    "- Dólar Canadá = 48\n",
    "- Euro = 222\n",
    "- Renminbi Chinês = 178\n",
    "- Renminbi Hong Kong = 2332\n",
    "- Libra esterlina = 115\n",
    "- Peso/México = 165\n",
    "- Peso/Argentina = 156\n",
    "\n",
    "Para obter os códigos, basta acessar o site do BCB, selecionar a moeda desejada em um período qualquer e verificar o código indicado no endereço de download do .csv da tabela apresentada (parâmetro \"ChkMoeda=\")."
   ]
  },
  {
   "cell_type": "code",
   "execution_count": 19,
   "id": "922a8453",
   "metadata": {},
   "outputs": [],
   "source": [
    "cotacao = pd.DataFrame()"
   ]
  },
  {
   "cell_type": "code",
   "execution_count": 20,
   "id": "109d11b4",
   "metadata": {},
   "outputs": [],
   "source": [
    "moeda = np.array([61, 222, 178, 2332, 48, 115, 165, 156])"
   ]
  },
  {
   "cell_type": "code",
   "execution_count": 21,
   "id": "9438eee1",
   "metadata": {},
   "outputs": [],
   "source": [
    "for item in moeda:\n",
    "    atualizacao = cotacao_periodo(item,data_inicial,data_final)\n",
    "    cotacao = pd.concat([cotacao,atualizacao])"
   ]
  },
  {
   "cell_type": "code",
   "execution_count": 22,
   "id": "b8f13770",
   "metadata": {},
   "outputs": [],
   "source": [
    "cotacao = cotacao.sort_values([\"simbolo\", \"data_cotacao\"])"
   ]
  },
  {
   "cell_type": "code",
   "execution_count": 23,
   "id": "fa33a8fa",
   "metadata": {},
   "outputs": [
    {
     "data": {
      "text/html": [
       "<div>\n",
       "<style scoped>\n",
       "    .dataframe tbody tr th:only-of-type {\n",
       "        vertical-align: middle;\n",
       "    }\n",
       "\n",
       "    .dataframe tbody tr th {\n",
       "        vertical-align: top;\n",
       "    }\n",
       "\n",
       "    .dataframe thead th {\n",
       "        text-align: right;\n",
       "    }\n",
       "</style>\n",
       "<table border=\"1\" class=\"dataframe\">\n",
       "  <thead>\n",
       "    <tr style=\"text-align: right;\">\n",
       "      <th></th>\n",
       "      <th>data_cotacao</th>\n",
       "      <th>codigo_moeda</th>\n",
       "      <th>tipo_moeda</th>\n",
       "      <th>simbolo</th>\n",
       "      <th>taxa_compra</th>\n",
       "      <th>taxa_venda</th>\n",
       "      <th>paridade_compra</th>\n",
       "      <th>paridade_venda</th>\n",
       "    </tr>\n",
       "  </thead>\n",
       "  <tbody>\n",
       "    <tr>\n",
       "      <th>0</th>\n",
       "      <td>2022-10-13</td>\n",
       "      <td>706</td>\n",
       "      <td>A</td>\n",
       "      <td>ARS</td>\n",
       "      <td>0.03503</td>\n",
       "      <td>0.03504</td>\n",
       "      <td>151.30</td>\n",
       "      <td>151.32</td>\n",
       "    </tr>\n",
       "    <tr>\n",
       "      <th>1</th>\n",
       "      <td>2022-10-14</td>\n",
       "      <td>706</td>\n",
       "      <td>A</td>\n",
       "      <td>ARS</td>\n",
       "      <td>0.03483</td>\n",
       "      <td>0.03484</td>\n",
       "      <td>151.62</td>\n",
       "      <td>151.63</td>\n",
       "    </tr>\n",
       "    <tr>\n",
       "      <th>2</th>\n",
       "      <td>2022-10-17</td>\n",
       "      <td>706</td>\n",
       "      <td>A</td>\n",
       "      <td>ARS</td>\n",
       "      <td>0.03456</td>\n",
       "      <td>0.03456</td>\n",
       "      <td>152.51</td>\n",
       "      <td>152.52</td>\n",
       "    </tr>\n",
       "    <tr>\n",
       "      <th>3</th>\n",
       "      <td>2022-10-18</td>\n",
       "      <td>706</td>\n",
       "      <td>A</td>\n",
       "      <td>ARS</td>\n",
       "      <td>0.03448</td>\n",
       "      <td>0.03448</td>\n",
       "      <td>152.82</td>\n",
       "      <td>152.83</td>\n",
       "    </tr>\n",
       "    <tr>\n",
       "      <th>4</th>\n",
       "      <td>2022-10-19</td>\n",
       "      <td>706</td>\n",
       "      <td>A</td>\n",
       "      <td>ARS</td>\n",
       "      <td>0.03447</td>\n",
       "      <td>0.03448</td>\n",
       "      <td>153.16</td>\n",
       "      <td>153.17</td>\n",
       "    </tr>\n",
       "    <tr>\n",
       "      <th>5</th>\n",
       "      <td>2022-10-20</td>\n",
       "      <td>706</td>\n",
       "      <td>A</td>\n",
       "      <td>ARS</td>\n",
       "      <td>0.03398</td>\n",
       "      <td>0.03399</td>\n",
       "      <td>153.50</td>\n",
       "      <td>153.51</td>\n",
       "    </tr>\n",
       "    <tr>\n",
       "      <th>6</th>\n",
       "      <td>2022-10-21</td>\n",
       "      <td>706</td>\n",
       "      <td>A</td>\n",
       "      <td>ARS</td>\n",
       "      <td>0.03375</td>\n",
       "      <td>0.03375</td>\n",
       "      <td>153.82</td>\n",
       "      <td>153.83</td>\n",
       "    </tr>\n",
       "    <tr>\n",
       "      <th>7</th>\n",
       "      <td>2022-10-24</td>\n",
       "      <td>706</td>\n",
       "      <td>A</td>\n",
       "      <td>ARS</td>\n",
       "      <td>0.03408</td>\n",
       "      <td>0.03409</td>\n",
       "      <td>154.74</td>\n",
       "      <td>154.75</td>\n",
       "    </tr>\n",
       "    <tr>\n",
       "      <th>8</th>\n",
       "      <td>2022-10-25</td>\n",
       "      <td>706</td>\n",
       "      <td>A</td>\n",
       "      <td>ARS</td>\n",
       "      <td>0.03424</td>\n",
       "      <td>0.03424</td>\n",
       "      <td>155.05</td>\n",
       "      <td>155.06</td>\n",
       "    </tr>\n",
       "    <tr>\n",
       "      <th>9</th>\n",
       "      <td>2022-10-26</td>\n",
       "      <td>706</td>\n",
       "      <td>A</td>\n",
       "      <td>ARS</td>\n",
       "      <td>0.03426</td>\n",
       "      <td>0.03427</td>\n",
       "      <td>155.40</td>\n",
       "      <td>155.42</td>\n",
       "    </tr>\n",
       "  </tbody>\n",
       "</table>\n",
       "</div>"
      ],
      "text/plain": [
       "  data_cotacao codigo_moeda tipo_moeda simbolo  taxa_compra  taxa_venda  \\\n",
       "0   2022-10-13          706          A     ARS      0.03503     0.03504   \n",
       "1   2022-10-14          706          A     ARS      0.03483     0.03484   \n",
       "2   2022-10-17          706          A     ARS      0.03456     0.03456   \n",
       "3   2022-10-18          706          A     ARS      0.03448     0.03448   \n",
       "4   2022-10-19          706          A     ARS      0.03447     0.03448   \n",
       "5   2022-10-20          706          A     ARS      0.03398     0.03399   \n",
       "6   2022-10-21          706          A     ARS      0.03375     0.03375   \n",
       "7   2022-10-24          706          A     ARS      0.03408     0.03409   \n",
       "8   2022-10-25          706          A     ARS      0.03424     0.03424   \n",
       "9   2022-10-26          706          A     ARS      0.03426     0.03427   \n",
       "\n",
       "   paridade_compra  paridade_venda  \n",
       "0           151.30          151.32  \n",
       "1           151.62          151.63  \n",
       "2           152.51          152.52  \n",
       "3           152.82          152.83  \n",
       "4           153.16          153.17  \n",
       "5           153.50          153.51  \n",
       "6           153.82          153.83  \n",
       "7           154.74          154.75  \n",
       "8           155.05          155.06  \n",
       "9           155.40          155.42  "
      ]
     },
     "execution_count": 23,
     "metadata": {},
     "output_type": "execute_result"
    }
   ],
   "source": [
    "cotacao.head(10)"
   ]
  },
  {
   "cell_type": "code",
   "execution_count": 24,
   "id": "38b5a4b0",
   "metadata": {},
   "outputs": [
    {
     "name": "stdout",
     "output_type": "stream",
     "text": [
      "<class 'pandas.core.frame.DataFrame'>\n",
      "Int64Index: 176 entries, 0 to 21\n",
      "Data columns (total 8 columns):\n",
      " #   Column           Non-Null Count  Dtype         \n",
      "---  ------           --------------  -----         \n",
      " 0   data_cotacao     176 non-null    datetime64[ns]\n",
      " 1   codigo_moeda     176 non-null    object        \n",
      " 2   tipo_moeda       176 non-null    object        \n",
      " 3   simbolo          176 non-null    object        \n",
      " 4   taxa_compra      176 non-null    float64       \n",
      " 5   taxa_venda       176 non-null    float64       \n",
      " 6   paridade_compra  176 non-null    float64       \n",
      " 7   paridade_venda   176 non-null    float64       \n",
      "dtypes: datetime64[ns](1), float64(4), object(3)\n",
      "memory usage: 12.4+ KB\n"
     ]
    }
   ],
   "source": [
    "cotacao.info()"
   ]
  },
  {
   "cell_type": "markdown",
   "id": "a5c9ade3",
   "metadata": {},
   "source": [
    "### Inserção e atualização no banco de dados\n",
    "Como etapa experimental, a ideia foi criar uma estrutura de atualização dos dados utilizando uma base desenvolvida em SQLite no notebook \"banco_taxas_bcb\". "
   ]
  },
  {
   "cell_type": "markdown",
   "id": "dd6f977f",
   "metadata": {},
   "source": [
    "O código a seguir carrega uma cópia exata do dataframe \"cotacao\" na tabela \"stg_cotacao\" do banco de dados. Desta forma, é possível aplicar o \"upsert\".\n",
    "Vídeo explicativo que foi utilizado como apoio: https://www.youtube.com/watch?v=1ZVcgg0GWJs"
   ]
  },
  {
   "cell_type": "code",
   "execution_count": 25,
   "id": "ba3ca803",
   "metadata": {},
   "outputs": [
    {
     "data": {
      "text/plain": [
       "176"
      ]
     },
     "execution_count": 25,
     "metadata": {},
     "output_type": "execute_result"
    }
   ],
   "source": [
    "conexao.execute(\"DELETE FROM stg_cotacao;\",)\n",
    "cotacao.to_sql(\"stg_cotacao\", conexao, if_exists = \"append\", index = False)"
   ]
  },
  {
   "cell_type": "markdown",
   "id": "72a93b16",
   "metadata": {},
   "source": [
    "#### Carga de tabela \"dim_moeda\"\n",
    "A carga desta tabela consiste em uma seleção distinta de três colunas do dataframe \"cotacao\". Utilizei a função de \"upsert\" do SQLite para realizar a inserção/atualização de dados com base no que foi obtido do site do BCB."
   ]
  },
  {
   "cell_type": "code",
   "execution_count": 26,
   "id": "6cb6eb04",
   "metadata": {},
   "outputs": [
    {
     "data": {
      "text/plain": [
       "<sqlite3.Cursor at 0x2a056379b40>"
      ]
     },
     "execution_count": 26,
     "metadata": {},
     "output_type": "execute_result"
    }
   ],
   "source": [
    "dim_moeda = \"\"\"\n",
    "    INSERT INTO dim_moeda (codigo_moeda, tipo_moeda, simbolo)\n",
    "    SELECT DISTINCT codigo_moeda, tipo_moeda, simbolo\n",
    "    FROM stg_cotacao\n",
    "    WHERE TRUE\n",
    "    ON CONFLICT (codigo_moeda)\n",
    "    DO UPDATE SET\n",
    "        tipo_moeda = excluded.tipo_moeda,\n",
    "        simbolo = excluded.simbolo;\n",
    "\"\"\"\n",
    "\n",
    "conexao.execute(dim_moeda)"
   ]
  },
  {
   "cell_type": "markdown",
   "id": "5e162715",
   "metadata": {},
   "source": [
    "#### Carga de tabela \"fat_taxa\"\n",
    "A tabela carrega todos os dados das taxas reportados no site do BCB. Da mesma maneira que a dimensão \"dim_moeda\", utilizei o método de \"upsert\" do SQLite neste caso. "
   ]
  },
  {
   "cell_type": "code",
   "execution_count": 27,
   "id": "86bb6745",
   "metadata": {},
   "outputs": [
    {
     "data": {
      "text/plain": [
       "<sqlite3.Cursor at 0x2a0563e7240>"
      ]
     },
     "execution_count": 27,
     "metadata": {},
     "output_type": "execute_result"
    }
   ],
   "source": [
    "fat_taxa = \"\"\"\n",
    "    INSERT INTO fat_taxa (data_cotacao, codigo_moeda, taxa_compra, taxa_venda, paridade_compra, paridade_venda)\n",
    "\tSELECT \n",
    "\t\tdata_cotacao,\n",
    "\t\tcodigo_moeda,\n",
    "\t\ttaxa_compra,\n",
    "\t\ttaxa_venda,\n",
    "\t\tparidade_compra,\n",
    "\t\tparidade_venda\n",
    "\tFROM stg_cotacao\n",
    "\tWHERE TRUE\n",
    "\tON CONFLICT (data_cotacao, codigo_moeda)\n",
    "\tDO UPDATE SET\n",
    "\t\ttaxa_compra = excluded.taxa_compra,\n",
    "\t\ttaxa_venda = excluded.taxa_venda,\n",
    "\t\tparidade_compra = excluded.paridade_compra,\n",
    "\t\tparidade_venda = excluded.paridade_venda;\n",
    "\"\"\"\n",
    "\n",
    "conexao.execute(fat_taxa)"
   ]
  },
  {
   "cell_type": "markdown",
   "id": "53eb0570",
   "metadata": {},
   "source": [
    "#### Carga de tabela \"fat_carga\"\n",
    "Esta tabela será a utilizada para registro da execuções de carga por moeda; assim, é possível registrar as datas em que ocorreram as últimas cargas para utilização nos parâmetros da URL."
   ]
  },
  {
   "cell_type": "code",
   "execution_count": 28,
   "id": "eb2e1631",
   "metadata": {},
   "outputs": [
    {
     "data": {
      "text/plain": [
       "<sqlite3.Cursor at 0x2a065e8e540>"
      ]
     },
     "execution_count": 28,
     "metadata": {},
     "output_type": "execute_result"
    }
   ],
   "source": [
    "fat_carga = \"\"\"\n",
    "    INSERT INTO fat_carga (data_registro)\n",
    "\tSELECT\n",
    "\t\tMAX(data_cotacao) data_registro\n",
    "\tFROM stg_cotacao;\n",
    "\"\"\"\n",
    "\n",
    "conexao.execute(fat_carga)"
   ]
  },
  {
   "cell_type": "code",
   "execution_count": 29,
   "id": "807f2580",
   "metadata": {},
   "outputs": [],
   "source": [
    "conexao.commit()\n",
    "conexao.close()"
   ]
  }
 ],
 "metadata": {
  "kernelspec": {
   "display_name": "Python 3 (ipykernel)",
   "language": "python",
   "name": "python3"
  },
  "language_info": {
   "codemirror_mode": {
    "name": "ipython",
    "version": 3
   },
   "file_extension": ".py",
   "mimetype": "text/x-python",
   "name": "python",
   "nbconvert_exporter": "python",
   "pygments_lexer": "ipython3",
   "version": "3.10.8"
  },
  "vscode": {
   "interpreter": {
    "hash": "05da2cafccd1180a8bdb36d2e3bb1b88f111cae2e01a65362c779920c115eced"
   }
  }
 },
 "nbformat": 4,
 "nbformat_minor": 5
}
